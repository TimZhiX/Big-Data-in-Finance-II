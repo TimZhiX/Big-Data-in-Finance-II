{
 "cells": [
  {
   "cell_type": "markdown",
   "metadata": {},
   "source": [
    "# Assignment - Unsupervised Learning\n",
    "This assignment is for Big Data in Finance II."
   ]
  },
  {
   "cell_type": "markdown",
   "metadata": {},
   "source": [
    "## 0 Setup\n",
    "Download the lending club data saved on the hub as \n",
    "*/Data/lendingclub_cleaned/Loan_data.csv*.\n",
    "\n",
    "Keep the following list of borrower characteristics:\n",
    "\n",
    "`[loan_amnt, int_rate, annual_inc, avg_cur_bal, emp_length, fico_range_high, delinq_amnt, revol_util]`\n",
    "\n",
    "Also keep `loan_status` and convert it into a default indicator (which is one if the loan status is \"Fail\")"
   ]
  },
  {
   "cell_type": "code",
   "execution_count": null,
   "metadata": {
    "ExecuteTime": {
     "end_time": "2019-05-22T08:44:36.002566Z",
     "start_time": "2019-05-22T08:44:22.219599Z"
    }
   },
   "outputs": [],
   "source": [
    "import pandas as pd\n",
    "import numpy as np\n",
    "import matplotlib.pyplot as plt\n",
    "import seaborn as sns\n",
    "\n",
    "from tqdm import tqdm\n",
    "from sklearn.decomposition import PCA\n",
    "from sklearn.cluster import KMeans\n",
    "\n",
    "np.seterr(all='ignore')\n",
    "np.random.seed(123)"
   ]
  },
  {
   "cell_type": "code",
   "execution_count": null,
   "metadata": {
    "ExecuteTime": {
     "end_time": "2019-05-22T09:59:30.149394Z",
     "start_time": "2019-05-22T09:59:27.968781Z"
    }
   },
   "outputs": [],
   "source": [
    "# load data\n",
    "df = pd.read_csv('../data/lendingclub_cleaned/Loan_data.csv', low_memory = False, index_col=0)\n",
    "\n",
    "# keep list of borrower characteristers\n",
    "clist = ['loan_status', 'loan_amnt', 'int_rate', 'annual_inc', 'avg_cur_bal', 'emp_length', 'fico_range_high', 'delinq_amnt', 'revol_util']\n",
    "df = df[clist]\n",
    "\n",
    "# turn loan_status into a default indicator\n",
    "df['loan_status'] = (df['loan_status'] == 'Fail')\n",
    "\n",
    "# inspect data information\n",
    "df.info()"
   ]
  },
  {
   "cell_type": "markdown",
   "metadata": {},
   "source": [
    "## 1 Pricipal Components\n",
    "Compute the first 2 principal components.\n",
    "\n",
    "Make a biplot and interpret the main sources of variation in the data."
   ]
  },
  {
   "cell_type": "code",
   "execution_count": null,
   "metadata": {},
   "outputs": [],
   "source": []
  },
  {
   "cell_type": "markdown",
   "metadata": {},
   "source": [
    "## 2 Visualize Variation\n",
    "Make a table with the percentage of variance explained by q\n",
    "principal components. (q = 1 to 8)\n",
    "\n",
    "Choose suitable number of principal components used in classification."
   ]
  },
  {
   "cell_type": "code",
   "execution_count": null,
   "metadata": {},
   "outputs": [],
   "source": []
  },
  {
   "cell_type": "markdown",
   "metadata": {},
   "source": [
    "## 3 Prediction\n",
    "Reallocate the dataset into 80% traning set, 10% validation set, 10% test set.\n",
    "Create a synthetic dataset by undersampling non-defaulters(<70%).\n",
    "\n",
    "Run 8 logistic classifiers that predict default as a function of the first q principal components."
   ]
  },
  {
   "cell_type": "code",
   "execution_count": null,
   "metadata": {},
   "outputs": [],
   "source": []
  },
  {
   "cell_type": "markdown",
   "metadata": {},
   "source": [
    "## 4 Tune Parameter\n",
    "Get implied probabilities of default of all borrowers in validation set.\n",
    "\n",
    "Use these predictions and actual outcomes to calculate the cross-entropy loss for each q.\n",
    "\n",
    "Choose q which has the lowest loss on validation set. Evaluate performance of model on test set."
   ]
  },
  {
   "cell_type": "code",
   "execution_count": null,
   "metadata": {},
   "outputs": [],
   "source": []
  },
  {
   "cell_type": "markdown",
   "metadata": {},
   "source": [
    "## 5 Alternatives to PCA\n",
    "Pseudocode for backprop and gradient descent, for a nonlinear q-dimensional representation of consumer characteristics that uses <u>autoencoder</u>. [Goodfellow et al., Ch.14](https://www.deeplearningbook.org/contents/autoencoders.html)\n",
    "\n",
    "Train this model, get insights relative to PCA."
   ]
  },
  {
   "cell_type": "code",
   "execution_count": null,
   "metadata": {},
   "outputs": [],
   "source": []
  },
  {
   "cell_type": "markdown",
   "metadata": {},
   "source": [
    "## 6 K-Means Clustering\n",
    "Cluster borrowers into K groups using K-means."
   ]
  },
  {
   "cell_type": "code",
   "execution_count": null,
   "metadata": {},
   "outputs": [],
   "source": []
  },
  {
   "cell_type": "markdown",
   "metadata": {},
   "source": [
    "## 7 Tune Paramerter\n",
    "Design a graphical tool that helps pick good number of K.\n",
    "\n",
    "Interpret characteristics\n",
    "of borrowers in each cluster."
   ]
  },
  {
   "cell_type": "code",
   "execution_count": null,
   "metadata": {},
   "outputs": [],
   "source": []
  }
 ],
 "metadata": {
  "kernelspec": {
   "display_name": "Python 3",
   "language": "python",
   "name": "python3"
  },
  "language_info": {
   "codemirror_mode": {
    "name": "ipython",
    "version": 3
   },
   "file_extension": ".py",
   "mimetype": "text/x-python",
   "name": "python",
   "nbconvert_exporter": "python",
   "pygments_lexer": "ipython3",
   "version": "3.6.5"
  }
 },
 "nbformat": 4,
 "nbformat_minor": 2
}
