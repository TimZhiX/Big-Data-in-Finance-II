{
 "cells": [
  {
   "cell_type": "markdown",
   "metadata": {},
   "source": [
    "# Assignment - Unsupervised Learning\n",
    "This assignment is for Big Data in Finance II."
   ]
  },
  {
   "cell_type": "markdown",
   "metadata": {},
   "source": [
    "## 0 Setup\n",
    "Download the lending club data saved on the hub as \n",
    "*/Data/lendingclub_cleaned/Loan_data.csv*.\n",
    "\n",
    "Keep the following list of borrower characteristics:\n",
    "\n",
    "`[loan_amnt, int_rate, annual_inc, avg_cur_bal, emp_length, fico_range_high, delinq_amnt, revol_util]`\n",
    "\n",
    "Also keep `loan_status` and convert it into a default indicator (which is one if the loan status is \"Fail\")"
   ]
  },
  {
   "cell_type": "code",
   "execution_count": null,
   "metadata": {
    "ExecuteTime": {
     "end_time": "2019-05-23T18:40:16.441262Z",
     "start_time": "2019-05-23T18:39:49.887500Z"
    }
   },
   "outputs": [],
   "source": [
    "import pandas as pd\n",
    "import numpy as np\n",
    "import matplotlib.pyplot as plt\n",
    "import seaborn as sns\n",
    "\n",
    "# to try tensorflow, un-comment following two lines\n",
    "# import os\n",
    "# os.environ['KERAS_BACKEND']='tensorflow'\n",
    "\n",
    "from tqdm import tqdm\n",
    "from sklearn import cross_validation\n",
    "from sklearn.decomposition import PCA\n",
    "from sklearn.cluster import KMeans\n",
    "from keras.datasets import mnist\n",
    "from keras.models import Model\n",
    "from keras.layers import Dense, Input\n",
    "\n",
    "np.seterr(all='ignore')\n",
    "np.random.seed(123)"
   ]
  },
  {
   "cell_type": "code",
   "execution_count": 2,
   "metadata": {
    "ExecuteTime": {
     "end_time": "2019-05-23T18:40:18.354447Z",
     "start_time": "2019-05-23T18:40:16.446212Z"
    },
    "scrolled": true
   },
   "outputs": [
    {
     "name": "stdout",
     "output_type": "stream",
     "text": [
      "<class 'pandas.core.frame.DataFrame'>\n",
      "Int64Index: 107260 entries, 126413292 to 118607680\n",
      "Data columns (total 9 columns):\n",
      "loan_status        107260 non-null float64\n",
      "loan_amnt          107260 non-null float64\n",
      "int_rate           107260 non-null float64\n",
      "annual_inc         107260 non-null float64\n",
      "avg_cur_bal        107260 non-null float64\n",
      "emp_length         107260 non-null float64\n",
      "fico_range_high    107260 non-null float64\n",
      "delinq_amnt        107260 non-null float64\n",
      "revol_util         107260 non-null float64\n",
      "dtypes: float64(9)\n",
      "memory usage: 8.2 MB\n"
     ]
    }
   ],
   "source": [
    "# load data\n",
    "df = pd.read_csv('../data/lendingclub_cleaned/Loan_data.csv', low_memory = False, index_col=0)\n",
    "\n",
    "# keep list of borrower characteristers\n",
    "clist = ['loan_status', 'loan_amnt', 'int_rate', 'annual_inc', 'avg_cur_bal', 'emp_length', 'fico_range_high', 'delinq_amnt', 'revol_util']\n",
    "df = df[clist]\n",
    "\n",
    "# turn loan_status into a default indicator\n",
    "df['loan_status'] = (df['loan_status'] == 'Fail')\n",
    "\n",
    "# make sure everything is numerical\n",
    "for col in df.columns:\n",
    "    df[col] = df[col].astype('float')\n",
    "    \n",
    "# inspect data information\n",
    "df.info()"
   ]
  },
  {
   "cell_type": "markdown",
   "metadata": {},
   "source": [
    "## 1 Pricipal Components\n",
    "Compute the first 2 principal components.\n",
    "\n",
    "Make a biplot and interpret the main sources of variation in the data."
   ]
  },
  {
   "cell_type": "code",
   "execution_count": 3,
   "metadata": {
    "ExecuteTime": {
     "end_time": "2019-05-23T18:40:18.599639Z",
     "start_time": "2019-05-23T18:40:18.357441Z"
    }
   },
   "outputs": [],
   "source": [
    "# standardise data\n",
    "X = (df - df.mean())/df.std()"
   ]
  },
  {
   "cell_type": "code",
   "execution_count": 4,
   "metadata": {
    "ExecuteTime": {
     "end_time": "2019-05-23T18:40:18.615596Z",
     "start_time": "2019-05-23T18:40:18.602668Z"
    }
   },
   "outputs": [],
   "source": [
    "# covariance matrix\n",
    "C = np.dot(X.T,X) / (df.shape[0]-1)\n",
    "C = C.astype(float)"
   ]
  },
  {
   "cell_type": "code",
   "execution_count": 5,
   "metadata": {
    "ExecuteTime": {
     "end_time": "2019-05-23T18:40:18.635542Z",
     "start_time": "2019-05-23T18:40:18.618587Z"
    },
    "scrolled": true
   },
   "outputs": [],
   "source": [
    "# get eigenvalues and eigenvectors\n",
    "e,V = np.linalg.eig(C)"
   ]
  },
  {
   "cell_type": "code",
   "execution_count": 6,
   "metadata": {
    "ExecuteTime": {
     "end_time": "2019-05-23T18:40:18.670449Z",
     "start_time": "2019-05-23T18:40:18.639532Z"
    }
   },
   "outputs": [
    {
     "name": "stdout",
     "output_type": "stream",
     "text": [
      "[[ 1.27733312 -2.46281446]\n",
      " [ 0.25645302  1.06507818]\n",
      " [-0.36900341 -2.55730184]\n",
      " ...\n",
      " [ 1.23981536  0.54952719]\n",
      " [-0.06702583 -0.64602478]\n",
      " [ 1.37465932  0.73040956]]\n"
     ]
    }
   ],
   "source": [
    "# convert this to first two PC\n",
    "Z = np.dot(X,V[:,0:2])\n",
    "print (Z)"
   ]
  },
  {
   "cell_type": "code",
   "execution_count": 7,
   "metadata": {
    "ExecuteTime": {
     "end_time": "2019-05-23T18:40:18.788649Z",
     "start_time": "2019-05-23T18:40:18.673441Z"
    },
    "scrolled": true
   },
   "outputs": [
    {
     "name": "stdout",
     "output_type": "stream",
     "text": [
      "[[ 1.27733312  2.46281446  0.58841666 ...  0.25684065  0.79145685\n",
      "  -0.27065037]\n",
      " [ 0.25645302 -1.06507818  0.35825133 ...  0.1715059   0.52492516\n",
      "  -0.61443995]\n",
      " [-0.36900341  2.55730184  0.8218605  ... -0.10367955  3.06043477\n",
      "  -0.52686517]\n",
      " ...\n",
      " [ 1.23981536 -0.54952719 -0.79776485 ...  0.1357662  -0.73279752\n",
      "   2.66778942]\n",
      " [-0.06702583  0.64602478  1.0444469  ...  0.88203443 -0.83137729\n",
      "  -0.08772295]\n",
      " [ 1.37465932 -0.73040956 -0.33948971 ... -0.90384292  0.05441268\n",
      "   0.76168635]]\n",
      "Wall time: 94.3 ms\n"
     ]
    }
   ],
   "source": [
    "%%time\n",
    "# for speed: use preloaded package\n",
    "pca = PCA(n_components = 8)\n",
    "X = (df - df.mean())/df.std()\n",
    "Z = pca.fit_transform(X)\n",
    "print (Z)"
   ]
  },
  {
   "cell_type": "code",
   "execution_count": 8,
   "metadata": {
    "ExecuteTime": {
     "end_time": "2019-05-23T18:40:18.840025Z",
     "start_time": "2019-05-23T18:40:18.791640Z"
    }
   },
   "outputs": [
    {
     "data": {
      "text/html": [
       "<div>\n",
       "<style scoped>\n",
       "    .dataframe tbody tr th:only-of-type {\n",
       "        vertical-align: middle;\n",
       "    }\n",
       "\n",
       "    .dataframe tbody tr th {\n",
       "        vertical-align: top;\n",
       "    }\n",
       "\n",
       "    .dataframe thead th {\n",
       "        text-align: right;\n",
       "    }\n",
       "</style>\n",
       "<table border=\"1\" class=\"dataframe\">\n",
       "  <thead>\n",
       "    <tr style=\"text-align: right;\">\n",
       "      <th></th>\n",
       "      <th>annual_inc</th>\n",
       "      <th>loan_amnt</th>\n",
       "      <th>avg_cur_bal</th>\n",
       "      <th>fico_range_high</th>\n",
       "      <th>revol_util</th>\n",
       "      <th>int_rate</th>\n",
       "      <th>delinq_amnt</th>\n",
       "      <th>emp_length</th>\n",
       "      <th>loan_status</th>\n",
       "    </tr>\n",
       "  </thead>\n",
       "  <tbody>\n",
       "    <tr>\n",
       "      <th>PC1</th>\n",
       "      <td>-0.025063</td>\n",
       "      <td>0.018972</td>\n",
       "      <td>-0.008218</td>\n",
       "      <td>-0.603640</td>\n",
       "      <td>0.551197</td>\n",
       "      <td>0.550476</td>\n",
       "      <td>0.015732</td>\n",
       "      <td>0.003580</td>\n",
       "      <td>0.165714</td>\n",
       "    </tr>\n",
       "    <tr>\n",
       "      <th>PC2</th>\n",
       "      <td>0.568919</td>\n",
       "      <td>0.526023</td>\n",
       "      <td>0.562162</td>\n",
       "      <td>0.090327</td>\n",
       "      <td>0.175567</td>\n",
       "      <td>-0.054990</td>\n",
       "      <td>0.017814</td>\n",
       "      <td>0.201678</td>\n",
       "      <td>-0.024619</td>\n",
       "    </tr>\n",
       "  </tbody>\n",
       "</table>\n",
       "</div>"
      ],
      "text/plain": [
       "     annual_inc  loan_amnt  avg_cur_bal  fico_range_high  revol_util  \\\n",
       "PC1   -0.025063   0.018972    -0.008218        -0.603640    0.551197   \n",
       "PC2    0.568919   0.526023     0.562162         0.090327    0.175567   \n",
       "\n",
       "     int_rate  delinq_amnt  emp_length  loan_status  \n",
       "PC1  0.550476     0.015732    0.003580     0.165714  \n",
       "PC2 -0.054990     0.017814    0.201678    -0.024619  "
      ]
     },
     "execution_count": 8,
     "metadata": {},
     "output_type": "execute_result"
    }
   ],
   "source": [
    "# get loadings on 5 most common terms\n",
    "loadings = pd.DataFrame(pca.components_[0:2],index=['PC1','PC2'],columns = df.columns)\n",
    "terms = list(df.sum(axis=0).sort_values(ascending=False)[0:10].index)\n",
    "loadings = loadings[terms] \n",
    "loadings"
   ]
  },
  {
   "cell_type": "code",
   "execution_count": 9,
   "metadata": {
    "ExecuteTime": {
     "end_time": "2019-05-23T18:40:20.233983Z",
     "start_time": "2019-05-23T18:40:18.844016Z"
    },
    "scrolled": true
   },
   "outputs": [
    {
     "data": {
      "text/plain": [
       "Text(0,0.5,'Second principal component')"
      ]
     },
     "execution_count": 9,
     "metadata": {},
     "output_type": "execute_result"
    },
    {
     "data": {
      "image/png": "[encoded data removed]",
      "text/plain": [
       "<Figure size 432x288 with 1 Axes>"
      ]
     },
     "metadata": {
      "needs_background": "light"
     },
     "output_type": "display_data"
    }
   ],
   "source": [
    "# biplot\n",
    "# plt.figure(figsize=(10,6))\n",
    "for term in terms:\n",
    "    plt.arrow(0,0,loadings.loc['PC1',term],loadings.loc['PC2',term])\n",
    "    plt.text(loadings.loc['PC1',term],loadings.loc['PC2',term],term)\n",
    "plt.scatter(Z[:,0]/(Z[:,0].max() - Z[:,0].min()) ,Z[:,1]/(Z[:,1].max() - Z[:,1].min()),alpha = 0.2)\n",
    "# plt.xlim(-0.25,1)\n",
    "plt.ylim(-0.6,0.8)\n",
    "plt.xlabel('First principal component')\n",
    "plt.ylabel('Second principal component')"
   ]
  },
  {
   "cell_type": "markdown",
   "metadata": {},
   "source": [
    "## 2 Visualize Variation\n",
    "Make a table with the percentage of variance explained by q\n",
    "principal components. (q = 1 to 8)\n",
    "\n",
    "Choose suitable number of principal components used in classification."
   ]
  },
  {
   "cell_type": "code",
   "execution_count": 10,
   "metadata": {
    "ExecuteTime": {
     "end_time": "2019-05-23T18:40:20.456458Z",
     "start_time": "2019-05-23T18:40:20.236975Z"
    }
   },
   "outputs": [
    {
     "data": {
      "text/plain": [
       "Text(0,0.5,'Percentage of Variance Explained')"
      ]
     },
     "execution_count": 10,
     "metadata": {},
     "output_type": "execute_result"
    },
    {
     "data": {
      "image/png": "[encoded data removed]",
      "text/plain": [
       "<Figure size 432x288 with 1 Axes>"
      ]
     },
     "metadata": {
      "needs_background": "light"
     },
     "output_type": "display_data"
    }
   ],
   "source": [
    "# scree plot\n",
    "# plt.figure(figsize=(10,6))\n",
    "plt.plot(np.cumsum(pca.explained_variance_ratio_),'-o')\n",
    "plt.xlabel('Number of principal components')\n",
    "plt.ylabel('Percentage of Variance Explained')"
   ]
  },
  {
   "cell_type": "markdown",
   "metadata": {},
   "source": [
    "## 3 Prediction\n",
    "Reallocate the dataset into 80% traning set, 10% validation set, 10% test set.\n",
    "Create a synthetic dataset by undersampling non-defaulters(<70%).\n",
    "\n",
    "Run 8 logistic classifiers that predict default as a function of the first q principal components."
   ]
  },
  {
   "cell_type": "code",
   "execution_count": 11,
   "metadata": {
    "ExecuteTime": {
     "end_time": "2019-05-23T18:40:20.516287Z",
     "start_time": "2019-05-23T18:40:20.462430Z"
    }
   },
   "outputs": [
    {
     "name": "stdout",
     "output_type": "stream",
     "text": [
      "(1, 107260)\n",
      "(8, 107260)\n"
     ]
    }
   ],
   "source": [
    "# set up data for classification\n",
    "# class label: default\n",
    "y = df['loan_status'].values.reshape(1, -1)\n",
    "print(y.shape)\n",
    "\n",
    "# features: the remaining columns\n",
    "X = df.drop(columns='loan_status').values.T\n",
    "\n",
    "# standardise inputs\n",
    "X = (X - np.mean(X, axis=1).reshape(-1, 1)) / np.std(X, axis=1).reshape(-1, 1)\n",
    "print(X.shape)"
   ]
  },
  {
   "cell_type": "code",
   "execution_count": 15,
   "metadata": {
    "ExecuteTime": {
     "end_time": "2019-05-23T18:41:30.414582Z",
     "start_time": "2019-05-23T18:41:30.376687Z"
    }
   },
   "outputs": [],
   "source": [
    "# reallocate dataset\n",
    "X_train, X_test, y_train, y_test = \\\n",
    "cross_validation.train_test_split(X.T, y.T, test_size = 0.8, random_state = 0)"
   ]
  },
  {
   "cell_type": "code",
   "execution_count": 16,
   "metadata": {
    "ExecuteTime": {
     "end_time": "2019-05-23T18:41:30.425554Z",
     "start_time": "2019-05-23T18:41:30.419569Z"
    }
   },
   "outputs": [],
   "source": [
    "# sigmoid function\n",
    "def sigmoid(A):\n",
    "    return 1/(1+np.exp(-A))\n",
    "\n",
    "# baby backprop\n",
    "def babybackprop(X,y,W):\n",
    "    \n",
    "    # forward pass to get prediction\n",
    "    A = np.dot(W,X)\n",
    "    yhat = sigmoid(A)\n",
    "    \n",
    "    # derivative of loss with respect to a\n",
    "    dA = yhat - y\n",
    "    \n",
    "    # average derivative of loss with respect to W\n",
    "    grad = np.matmul(dA,X.T) / X.shape[1]\n",
    "\n",
    "    return grad\n",
    "\n",
    "# cross entropy loss\n",
    "def cross_entropy(yhat,y):\n",
    "    L = - y * np.log(yhat) - (1-y) * np.log(1-yhat)\n",
    "    loss = np.sum(L) / yhat.shape[1]\n",
    "    return loss"
   ]
  },
  {
   "cell_type": "code",
   "execution_count": 17,
   "metadata": {
    "ExecuteTime": {
     "end_time": "2019-05-23T18:41:36.423064Z",
     "start_time": "2019-05-23T18:41:30.428544Z"
    }
   },
   "outputs": [
    {
     "name": "stderr",
     "output_type": "stream",
     "text": [
      "100%|████████████████████████████████████████████████████████████████████████████████| 500/500 [00:05<00:00, 87.71it/s]\n"
     ]
    },
    {
     "data": {
      "text/plain": [
       "Text(0,0.5,'Loss')"
      ]
     },
     "execution_count": 17,
     "metadata": {},
     "output_type": "execute_result"
    },
    {
     "data": {
      "image/png": "[encoded data removed]",
      "text/plain": [
       "<Figure size 432x288 with 1 Axes>"
      ]
     },
     "metadata": {
      "needs_background": "light"
     },
     "output_type": "display_data"
    }
   ],
   "source": [
    "# logit initialisation\n",
    "p = X.shape[0]\n",
    "W = np.random.rand(1,p) * 0.01\n",
    "\n",
    "# learning rate\n",
    "learning_rate = 0.1\n",
    "\n",
    "# number of steps for gradient descent\n",
    "steps = 500\n",
    "\n",
    "# initialize list to hold losses over time\n",
    "losses_logit = []\n",
    "\n",
    "for i in tqdm(range(steps)):\n",
    "    \n",
    "    # get gradients using baby backprop\n",
    "    grad = babybackprop(X,y,W)\n",
    "    \n",
    "    # update parameters using gradient descent\n",
    "    W -= learning_rate * grad\n",
    "    \n",
    "    # cross-entropy loss\n",
    "    A = np.dot(W,X)\n",
    "    yhat = sigmoid(A)\n",
    "    loss = cross_entropy(yhat,y)\n",
    "    losses_logit.append(loss)\n",
    "\n",
    "# visualise learning over time\n",
    "plt.plot(range(steps),losses_logit)    \n",
    "plt.xlabel('Iteration')\n",
    "plt.ylabel('Loss')"
   ]
  },
  {
   "cell_type": "markdown",
   "metadata": {},
   "source": [
    "## 4 Tune Parameter\n",
    "Get implied probabilities of default of all borrowers in validation set.\n",
    "\n",
    "Use these predictions and actual outcomes to calculate the cross-entropy loss for each q.\n",
    "\n",
    "Choose q which has the lowest loss on validation set. Evaluate performance of model on test set."
   ]
  },
  {
   "cell_type": "code",
   "execution_count": null,
   "metadata": {},
   "outputs": [],
   "source": []
  },
  {
   "cell_type": "markdown",
   "metadata": {},
   "source": [
    "## 5 Alternatives to PCA\n",
    "Pseudocode for backprop and gradient descent, for a nonlinear q-dimensional representation of consumer characteristics that uses <u>autoencoder</u>. [Goodfellow et al., Ch.14](https://www.deeplearningbook.org/contents/autoencoders.html)\n",
    "\n",
    "Train this model, get insights relative to PCA."
   ]
  },
  {
   "cell_type": "code",
   "execution_count": 29,
   "metadata": {
    "ExecuteTime": {
     "end_time": "2019-05-23T18:43:21.188317Z",
     "start_time": "2019-05-23T18:43:21.145431Z"
    }
   },
   "outputs": [
    {
     "name": "stdout",
     "output_type": "stream",
     "text": [
      "(1, 107260)\n",
      "(8, 107260)\n"
     ]
    }
   ],
   "source": [
    "# set up data for classification\n",
    "# class label: default\n",
    "y = df['loan_status'].values.reshape(1,-1)\n",
    "print(y.shape)\n",
    "\n",
    "# features: the remaining columns\n",
    "X = df.drop(columns = 'loan_status').values.T\n",
    "\n",
    "# standardise inputs\n",
    "X = (X - np.mean(X,axis=1).reshape(-1,1)) / np.std(X,axis=1).reshape(-1,1)\n",
    "print(X.shape)"
   ]
  },
  {
   "cell_type": "code",
   "execution_count": null,
   "metadata": {
    "ExecuteTime": {
     "end_time": "2019-05-23T18:41:36.908395Z",
     "start_time": "2019-05-23T18:41:36.509834Z"
    },
    "scrolled": true
   },
   "outputs": [],
   "source": [
    "# in order to plot in a 2D figure\n",
    "encoding_dim = 2\n",
    "\n",
    "# this is our input placeholder\n",
    "input_img = Input(shape=(107260,))\n",
    "\n",
    "# encoder layers\n",
    "encoded = Dense(128, activation='relu')(input_img)\n",
    "encoded = Dense(64, activation='relu')(encoded)\n",
    "encoded = Dense(10, activation='relu')(encoded)\n",
    "encoder_output = Dense(encoding_dim)(encoded)\n",
    "\n",
    "# decoder layers\n",
    "decoded = Dense(10, activation='relu')(encoder_output)\n",
    "decoded = Dense(64, activation='relu')(decoded)\n",
    "decoded = Dense(128, activation='relu')(decoded)\n",
    "decoded = Dense(107260, activation='tanh')(decoded)\n",
    "\n",
    "# construct the autoencoder model\n",
    "autoencoder = Model(inputs=input_img, outputs=decoded)\n",
    "\n",
    "# construct the encoder model for plotting\n",
    "encoder = Model(inputs=input_img, outputs=encoder_output)\n",
    "\n",
    "# compile autoencoder\n",
    "autoencoder.compile(optimizer='adam', loss='mse')\n"
   ]
  },
  {
   "cell_type": "code",
   "execution_count": 30,
   "metadata": {
    "ExecuteTime": {
     "end_time": "2019-05-23T18:43:35.745428Z",
     "start_time": "2019-05-23T18:43:23.517015Z"
    }
   },
   "outputs": [
    {
     "name": "stdout",
     "output_type": "stream",
     "text": [
      "Epoch 1/20\n",
      "8/8 [==============================] - 1s 65ms/step - loss: 0.5807\n",
      "Epoch 2/20\n",
      "8/8 [==============================] - 1s 65ms/step - loss: 0.5724\n",
      "Epoch 3/20\n",
      "8/8 [==============================] - 1s 91ms/step - loss: 0.5658\n",
      "Epoch 4/20\n",
      "8/8 [==============================] - 1s 91ms/step - loss: 0.5590\n",
      "Epoch 5/20\n",
      "8/8 [==============================] - 1s 72ms/step - loss: 0.5515\n",
      "Epoch 6/20\n",
      "8/8 [==============================] - 1s 89ms/step - loss: 0.5445\n",
      "Epoch 7/20\n",
      "8/8 [==============================] - 1s 86ms/step - loss: 0.5366\n",
      "Epoch 8/20\n",
      "8/8 [==============================] - 1s 69ms/step - loss: 0.5297\n",
      "Epoch 9/20\n",
      "8/8 [==============================] - 1s 81ms/step - loss: 0.5222\n",
      "Epoch 10/20\n",
      "8/8 [==============================] - 1s 81ms/step - loss: 0.5150\n",
      "Epoch 11/20\n",
      "8/8 [==============================] - 1s 67ms/step - loss: 0.5088\n",
      "Epoch 12/20\n",
      "8/8 [==============================] - 1s 78ms/step - loss: 0.5026\n",
      "Epoch 13/20\n",
      "8/8 [==============================] - 1s 64ms/step - loss: 0.4971\n",
      "Epoch 14/20\n",
      "8/8 [==============================] - 1s 64ms/step - loss: 0.4919\n",
      "Epoch 15/20\n",
      "8/8 [==============================] - 1s 68ms/step - loss: 0.4875\n",
      "Epoch 16/20\n",
      "8/8 [==============================] - 1s 81ms/step - loss: 0.4830\n",
      "Epoch 17/20\n",
      "8/8 [==============================] - 1s 80ms/step - loss: 0.4793\n",
      "Epoch 18/20\n",
      "8/8 [==============================] - 1s 69ms/step - loss: 0.4757\n",
      "Epoch 19/20\n",
      "8/8 [==============================] - 1s 76ms/step - loss: 0.4728\n",
      "Epoch 20/20\n",
      "8/8 [==============================] - 1s 72ms/step - loss: 0.4701\n"
     ]
    },
    {
     "data": {
      "text/plain": [
       "<keras.callbacks.History at 0x1d61bb3e898>"
      ]
     },
     "execution_count": 30,
     "metadata": {},
     "output_type": "execute_result"
    }
   ],
   "source": [
    "# training\n",
    "autoencoder.fit(X, X,\n",
    "                epochs=20,\n",
    "                batch_size=256,\n",
    "                shuffle=True)"
   ]
  },
  {
   "cell_type": "code",
   "execution_count": 21,
   "metadata": {
    "ExecuteTime": {
     "end_time": "2019-05-23T18:41:52.203318Z",
     "start_time": "2019-05-23T18:41:51.906113Z"
    },
    "scrolled": true
   },
   "outputs": [
    {
     "data": {
      "text/plain": [
       "<matplotlib.collections.PathCollection at 0x1d61a38c3c8>"
      ]
     },
     "execution_count": 21,
     "metadata": {},
     "output_type": "execute_result"
    },
    {
     "data": {
      "image/png": "[encoded data removed]",
      "text/plain": [
       "<Figure size 432x288 with 1 Axes>"
      ]
     },
     "metadata": {
      "needs_background": "light"
     },
     "output_type": "display_data"
    }
   ],
   "source": [
    "# plotting\n",
    "encoded_imgs = encoder.predict(X)\n",
    "plt.scatter(encoded_imgs[:, 0], encoded_imgs[:, 1]) # something wrong here\n",
    "# plt.show()"
   ]
  },
  {
   "cell_type": "markdown",
   "metadata": {},
   "source": [
    "## 6 K-Means Clustering\n",
    "Cluster borrowers into K groups using K-means."
   ]
  },
  {
   "cell_type": "code",
   "execution_count": 22,
   "metadata": {
    "ExecuteTime": {
     "end_time": "2019-05-23T18:41:52.219275Z",
     "start_time": "2019-05-23T18:41:52.205313Z"
    }
   },
   "outputs": [],
   "source": [
    "# auxiliary functions\n",
    "def get_means(labels,X,k):\n",
    "    means = np.zeros((k,X.shape[1]))\n",
    "    for c in range(k):\n",
    "        points = X[labels == c]\n",
    "        means[c,:] = points.mean(axis=0)\n",
    "    return means\n",
    "        \n",
    "\n",
    "# auxiliary function for assigning closest centroids\n",
    "def get_closest(means,X,k):\n",
    "    distances = np.zeros((X.shape[0],k))\n",
    "    for c in range(k):\n",
    "        diff = X.values - means[c,:]\n",
    "        distances[:,c] = np.linalg.norm(diff,axis=1)**2\n",
    "        \n",
    "    labels = np.argmin(distances,axis=1)\n",
    "    min_distance = np.min(distances,axis=1)\n",
    "    \n",
    "    return labels, min_distance"
   ]
  },
  {
   "cell_type": "code",
   "execution_count": 23,
   "metadata": {
    "ExecuteTime": {
     "end_time": "2019-05-23T18:41:52.322998Z",
     "start_time": "2019-05-23T18:41:52.223265Z"
    },
    "scrolled": false
   },
   "outputs": [
    {
     "name": "stdout",
     "output_type": "stream",
     "text": [
      "(107260,)\n",
      "(107260, 8)\n"
     ]
    }
   ],
   "source": [
    "# set up data for classification\n",
    "# class label: default\n",
    "y = df['loan_status']\n",
    "print(y.shape)\n",
    "\n",
    "# features: the remaining columns\n",
    "X = df.drop(columns = 'loan_status')\n",
    "print(X.shape)"
   ]
  },
  {
   "cell_type": "code",
   "execution_count": 24,
   "metadata": {
    "ExecuteTime": {
     "end_time": "2019-05-23T18:41:55.820348Z",
     "start_time": "2019-05-23T18:41:52.325991Z"
    }
   },
   "outputs": [],
   "source": [
    "k=3\n",
    "means = X.sample(k,random_state = 123).values\n",
    "labels, _ = get_closest(means,X,k)\n",
    "get_closest(means,X,k)\n",
    "\n",
    "for i in range(100):\n",
    "    means = get_means(labels,X,k)\n",
    "    new_labels, min_distance = get_closest(means,X,k)\n",
    "    if (labels == new_labels).all(): \n",
    "        break\n",
    "    else: \n",
    "        labels = new_labels"
   ]
  },
  {
   "cell_type": "code",
   "execution_count": 25,
   "metadata": {
    "ExecuteTime": {
     "end_time": "2019-05-23T18:42:04.679485Z",
     "start_time": "2019-05-23T18:41:55.822343Z"
    }
   },
   "outputs": [
    {
     "data": {
      "text/plain": [
       "Text(0,0.5,'Second principal component of returns')"
      ]
     },
     "execution_count": 25,
     "metadata": {},
     "output_type": "execute_result"
    },
    {
     "data": {
      "image/png": "[encoded data removed]",
      "text/plain": [
       "<Figure size 720x432 with 1 Axes>"
      ]
     },
     "metadata": {
      "needs_background": "light"
     },
     "output_type": "display_data"
    }
   ],
   "source": [
    "# visualisation\n",
    "Z = PCA(n_components=2).fit_transform(X)\n",
    "plt.figure(figsize=(10,6))\n",
    "plt.scatter(Z[:,0],Z[:,1],c=labels)\n",
    "plt.xlabel('First principal component of returns')\n",
    "plt.ylabel('Second principal component of returns')"
   ]
  },
  {
   "cell_type": "markdown",
   "metadata": {},
   "source": [
    "## 7 Tune Paramerter\n",
    "Design a graphical tool that helps pick good number of K.\n",
    "\n",
    "Interpret characteristics\n",
    "of borrowers in each cluster."
   ]
  },
  {
   "cell_type": "code",
   "execution_count": 26,
   "metadata": {
    "ExecuteTime": {
     "end_time": "2019-05-23T18:43:00.452775Z",
     "start_time": "2019-05-23T18:42:04.683475Z"
    },
    "scrolled": false
   },
   "outputs": [
    {
     "data": {
      "text/plain": [
       "Text(0,0.5,'Within-cluster point scatter')"
      ]
     },
     "execution_count": 26,
     "metadata": {},
     "output_type": "execute_result"
    },
    {
     "data": {
      "image/png": "[encoded data removed]",
      "text/plain": [
       "<Figure size 432x288 with 1 Axes>"
      ]
     },
     "metadata": {
      "needs_background": "light"
     },
     "output_type": "display_data"
    }
   ],
   "source": [
    "# for speed, use pre-loaded package\n",
    "distances = []\n",
    "for k in range(1,11): \n",
    "    fitted = KMeans(n_clusters=k,random_state = 234,n_init=10).fit(X)\n",
    "    distances.append(fitted.inertia_)\n",
    "plt.plot(range(1,11),distances,'-o')    \n",
    "plt.xlabel('k')\n",
    "plt.ylabel('Within-cluster point scatter')"
   ]
  },
  {
   "cell_type": "code",
   "execution_count": 27,
   "metadata": {
    "ExecuteTime": {
     "end_time": "2019-05-23T18:43:06.448958Z",
     "start_time": "2019-05-23T18:43:00.455767Z"
    }
   },
   "outputs": [
    {
     "data": {
      "text/plain": [
       "<matplotlib.legend.Legend at 0x1d61b313cc0>"
      ]
     },
     "execution_count": 27,
     "metadata": {},
     "output_type": "execute_result"
    },
    {
     "data": {
      "image/png": "[encoded data removed]",
      "text/plain": [
       "<Figure size 1080x360 with 1 Axes>"
      ]
     },
     "metadata": {
      "needs_background": "light"
     },
     "output_type": "display_data"
    }
   ],
   "source": [
    "# what are we picking up?\n",
    "labels = KMeans(n_clusters = 5).fit_predict(X)\n",
    "plt.figure(figsize=(15,5))\n",
    "sns.countplot(y.values,hue=labels)\n",
    "plt.xlabel('y')\n",
    "plt.legend(title='Cluster')"
   ]
  }
 ],
 "metadata": {
  "kernelspec": {
   "display_name": "Python 3",
   "language": "python",
   "name": "python3"
  },
  "language_info": {
   "codemirror_mode": {
    "name": "ipython",
    "version": 3
   },
   "file_extension": ".py",
   "mimetype": "text/x-python",
   "name": "python",
   "nbconvert_exporter": "python",
   "pygments_lexer": "ipython3",
   "version": "3.6.5"
  }
 },
 "nbformat": 4,
 "nbformat_minor": 2
}
