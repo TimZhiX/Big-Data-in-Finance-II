{
 "cells": [
  {
   "cell_type": "markdown",
   "metadata": {},
   "source": [
    "# Assignment - Unsupervised Learning\n",
    "This assignment is for Big Data in Finance II."
   ]
  },
  {
   "cell_type": "markdown",
   "metadata": {},
   "source": [
    "## 0 Setup\n",
    "Download the lending club data saved on the hub as \n",
    "*/Data/lendingclub_cleaned/Loan_data.csv*.\n",
    "\n",
    "Keep the following list of borrower characteristics:\n",
    "\n",
    "`[loan_amnt, int_rate, annual_inc, avg_cur_bal, emp_length, fico_range_high, delinq_amnt, revol_util]`\n",
    "\n",
    "Also keep `loan_status` and convert it into a default indicator (which is one if the loan status is \"Fail\")"
   ]
  },
  {
   "cell_type": "code",
   "execution_count": 2,
   "metadata": {
    "ExecuteTime": {
     "end_time": "2019-05-23T10:25:05.996802Z",
     "start_time": "2019-05-23T10:25:05.986853Z"
    }
   },
   "outputs": [],
   "source": [
    "import pandas as pd\n",
    "import numpy as np\n",
    "import matplotlib.pyplot as plt\n",
    "import seaborn as sns\n",
    "import os\n",
    "os.environ['KERAS_BACKEND']='tensorflow'\n",
    "\n",
    "from tqdm import tqdm\n",
    "from sklearn.decomposition import PCA\n",
    "from sklearn.cluster import KMeans\n",
    "from keras.datasets import mnist\n",
    "from keras.models import Model\n",
    "from keras.layers import Dense, Input\n",
    "\n",
    "np.seterr(all='ignore')\n",
    "np.random.seed(123)"
   ]
  },
  {
   "cell_type": "code",
   "execution_count": 3,
   "metadata": {
    "ExecuteTime": {
     "end_time": "2019-05-23T10:25:09.174593Z",
     "start_time": "2019-05-23T10:25:07.381502Z"
    }
   },
   "outputs": [
    {
     "name": "stdout",
     "output_type": "stream",
     "text": [
      "<class 'pandas.core.frame.DataFrame'>\n",
      "Int64Index: 107260 entries, 126413292 to 118607680\n",
      "Data columns (total 9 columns):\n",
      "loan_status        107260 non-null bool\n",
      "loan_amnt          107260 non-null float64\n",
      "int_rate           107260 non-null float64\n",
      "annual_inc         107260 non-null float64\n",
      "avg_cur_bal        107260 non-null float64\n",
      "emp_length         107260 non-null int64\n",
      "fico_range_high    107260 non-null float64\n",
      "delinq_amnt        107260 non-null float64\n",
      "revol_util         107260 non-null float64\n",
      "dtypes: bool(1), float64(7), int64(1)\n",
      "memory usage: 7.5 MB\n"
     ]
    }
   ],
   "source": [
    "# load data\n",
    "df = pd.read_csv('../data/lendingclub_cleaned/Loan_data.csv', low_memory = False, index_col=0)\n",
    "\n",
    "# keep list of borrower characteristers\n",
    "clist = ['loan_status', 'loan_amnt', 'int_rate', 'annual_inc', 'avg_cur_bal', 'emp_length', 'fico_range_high', 'delinq_amnt', 'revol_util']\n",
    "df = df[clist]\n",
    "\n",
    "# turn loan_status into a default indicator\n",
    "df['loan_status'] = (df['loan_status'] == 'Fail')\n",
    "\n",
    "# inspect data information\n",
    "df.info()"
   ]
  },
  {
   "cell_type": "markdown",
   "metadata": {},
   "source": [
    "## 1 Pricipal Components\n",
    "Compute the first 2 principal components.\n",
    "\n",
    "Make a biplot and interpret the main sources of variation in the data."
   ]
  },
  {
   "cell_type": "code",
   "execution_count": null,
   "metadata": {},
   "outputs": [],
   "source": []
  },
  {
   "cell_type": "markdown",
   "metadata": {},
   "source": [
    "## 2 Visualize Variation\n",
    "Make a table with the percentage of variance explained by q\n",
    "principal components. (q = 1 to 8)\n",
    "\n",
    "Choose suitable number of principal components used in classification."
   ]
  },
  {
   "cell_type": "code",
   "execution_count": null,
   "metadata": {},
   "outputs": [],
   "source": []
  },
  {
   "cell_type": "markdown",
   "metadata": {},
   "source": [
    "## 3 Prediction\n",
    "Reallocate the dataset into 80% traning set, 10% validation set, 10% test set.\n",
    "Create a synthetic dataset by undersampling non-defaulters(<70%).\n",
    "\n",
    "Run 8 logistic classifiers that predict default as a function of the first q principal components."
   ]
  },
  {
   "cell_type": "code",
   "execution_count": null,
   "metadata": {},
   "outputs": [],
   "source": []
  },
  {
   "cell_type": "markdown",
   "metadata": {},
   "source": [
    "## 4 Tune Parameter\n",
    "Get implied probabilities of default of all borrowers in validation set.\n",
    "\n",
    "Use these predictions and actual outcomes to calculate the cross-entropy loss for each q.\n",
    "\n",
    "Choose q which has the lowest loss on validation set. Evaluate performance of model on test set."
   ]
  },
  {
   "cell_type": "code",
   "execution_count": null,
   "metadata": {},
   "outputs": [],
   "source": []
  },
  {
   "cell_type": "markdown",
   "metadata": {},
   "source": [
    "## 5 Alternatives to PCA\n",
    "Pseudocode for backprop and gradient descent, for a nonlinear q-dimensional representation of consumer characteristics that uses <u>autoencoder</u>. [Goodfellow et al., Ch.14](https://www.deeplearningbook.org/contents/autoencoders.html)\n",
    "\n",
    "Train this model, get insights relative to PCA."
   ]
  },
  {
   "cell_type": "code",
   "execution_count": 4,
   "metadata": {
    "ExecuteTime": {
     "end_time": "2019-05-23T10:25:14.783607Z",
     "start_time": "2019-05-23T10:25:14.732737Z"
    }
   },
   "outputs": [
    {
     "name": "stdout",
     "output_type": "stream",
     "text": [
      "(1, 107260)\n",
      "(8, 107260)\n"
     ]
    }
   ],
   "source": [
    "# set up data for classification\n",
    "# class label: default\n",
    "y = df['loan_status'].values.reshape(1,-1)\n",
    "print(y.shape)\n",
    "\n",
    "# features: the remaining columns\n",
    "X = df.drop(columns = 'loan_status').values.T\n",
    "\n",
    "# standardise inputs\n",
    "X = (X - np.mean(X,axis=1).reshape(-1,1)) / np.std(X,axis=1).reshape(-1,1)\n",
    "print(X.shape)"
   ]
  },
  {
   "cell_type": "code",
   "execution_count": 6,
   "metadata": {
    "ExecuteTime": {
     "end_time": "2019-05-23T10:27:31.352244Z",
     "start_time": "2019-05-23T10:27:31.179478Z"
    },
    "scrolled": true
   },
   "outputs": [],
   "source": [
    "# in order to plot in a 2D figure\n",
    "encoding_dim = 2\n",
    "\n",
    "# this is our input placeholder\n",
    "input_img = Input(shape=(107260,))\n",
    "\n",
    "# encoder layers\n",
    "encoded = Dense(128, activation='relu')(input_img)\n",
    "encoded = Dense(64, activation='relu')(encoded)\n",
    "encoded = Dense(10, activation='relu')(encoded)\n",
    "encoder_output = Dense(encoding_dim)(encoded)\n",
    "\n",
    "# decoder layers\n",
    "decoded = Dense(10, activation='relu')(encoder_output)\n",
    "decoded = Dense(64, activation='relu')(decoded)\n",
    "decoded = Dense(128, activation='relu')(decoded)\n",
    "decoded = Dense(107260, activation='tanh')(decoded)\n",
    "\n",
    "# construct the autoencoder model\n",
    "autoencoder = Model(inputs=input_img, outputs=decoded)\n",
    "\n",
    "# construct the encoder model for plotting\n",
    "encoder = Model(inputs=input_img, outputs=encoder_output)\n",
    "\n",
    "# compile autoencoder\n",
    "autoencoder.compile(optimizer='adam', loss='mse')\n"
   ]
  },
  {
   "cell_type": "code",
   "execution_count": 8,
   "metadata": {
    "ExecuteTime": {
     "end_time": "2019-05-23T10:27:57.221020Z",
     "start_time": "2019-05-23T10:27:46.348523Z"
    }
   },
   "outputs": [
    {
     "name": "stdout",
     "output_type": "stream",
     "text": [
      "Epoch 1/20\n",
      "8/8 [==============================] - 1s 80ms/step - loss: 0.4405\n",
      "Epoch 2/20\n",
      "8/8 [==============================] - 1s 74ms/step - loss: 0.4252\n",
      "Epoch 3/20\n",
      "8/8 [==============================] - 1s 68ms/step - loss: 0.4222\n",
      "Epoch 4/20\n",
      "8/8 [==============================] - 1s 69ms/step - loss: 0.4195\n",
      "Epoch 5/20\n",
      "8/8 [==============================] - 1s 75ms/step - loss: 0.4130\n",
      "Epoch 6/20\n",
      "8/8 [==============================] - 1s 68ms/step - loss: 0.4088\n",
      "Epoch 7/20\n",
      "8/8 [==============================] - 1s 66ms/step - loss: 0.4057\n",
      "Epoch 8/20\n",
      "8/8 [==============================] - 1s 65ms/step - loss: 0.4031\n",
      "Epoch 9/20\n",
      "8/8 [==============================] - 1s 68ms/step - loss: 0.3996\n",
      "Epoch 10/20\n",
      "8/8 [==============================] - 1s 75ms/step - loss: 0.3969\n",
      "Epoch 11/20\n",
      "8/8 [==============================] - 1s 65ms/step - loss: 0.3943\n",
      "Epoch 12/20\n",
      "8/8 [==============================] - 0s 62ms/step - loss: 0.3928\n",
      "Epoch 13/20\n",
      "8/8 [==============================] - 1s 64ms/step - loss: 0.3908\n",
      "Epoch 14/20\n",
      "8/8 [==============================] - 1s 65ms/step - loss: 0.3891\n",
      "Epoch 15/20\n",
      "8/8 [==============================] - 1s 69ms/step - loss: 0.3874\n",
      "Epoch 16/20\n",
      "8/8 [==============================] - 0s 62ms/step - loss: 0.3856\n",
      "Epoch 17/20\n",
      "8/8 [==============================] - 0s 62ms/step - loss: 0.3839\n",
      "Epoch 18/20\n",
      "8/8 [==============================] - 1s 63ms/step - loss: 0.3825\n",
      "Epoch 19/20\n",
      "8/8 [==============================] - 1s 64ms/step - loss: 0.3810\n",
      "Epoch 20/20\n",
      "8/8 [==============================] - 1s 63ms/step - loss: 0.3797\n"
     ]
    },
    {
     "data": {
      "text/plain": [
       "<keras.callbacks.History at 0x1926820d6a0>"
      ]
     },
     "execution_count": 8,
     "metadata": {},
     "output_type": "execute_result"
    }
   ],
   "source": [
    "# training\n",
    "autoencoder.fit(X, X,\n",
    "                epochs=20,\n",
    "                batch_size=256,\n",
    "                shuffle=True)"
   ]
  },
  {
   "cell_type": "code",
   "execution_count": 9,
   "metadata": {
    "ExecuteTime": {
     "end_time": "2019-05-23T10:28:54.885180Z",
     "start_time": "2019-05-23T10:28:54.657459Z"
    },
    "scrolled": true
   },
   "outputs": [
    {
     "data": {
      "text/plain": [
       "<matplotlib.collections.PathCollection at 0x1920f1c5668>"
      ]
     },
     "execution_count": 9,
     "metadata": {},
     "output_type": "execute_result"
    },
    {
     "data": {
      "image/png": "[encoded data removed]",
      "text/plain": [
       "<Figure size 432x288 with 1 Axes>"
      ]
     },
     "metadata": {
      "needs_background": "light"
     },
     "output_type": "display_data"
    }
   ],
   "source": [
    "# plotting\n",
    "encoded_imgs = encoder.predict(X)\n",
    "plt.scatter(encoded_imgs[:, 0], encoded_imgs[:, 1]) # something wrong here\n",
    "# plt.show()"
   ]
  },
  {
   "cell_type": "markdown",
   "metadata": {},
   "source": [
    "## 6 K-Means Clustering\n",
    "Cluster borrowers into K groups using K-means."
   ]
  },
  {
   "cell_type": "code",
   "execution_count": 10,
   "metadata": {
    "ExecuteTime": {
     "end_time": "2019-05-23T10:28:58.640399Z",
     "start_time": "2019-05-23T10:28:58.631820Z"
    }
   },
   "outputs": [],
   "source": [
    "# auxiliary functions\n",
    "def get_means(labels,X,k):\n",
    "    means = np.zeros((k,X.shape[1]))\n",
    "    for c in range(k):\n",
    "        points = X[labels == c]\n",
    "        means[c,:] = points.mean(axis=0)\n",
    "    return means\n",
    "        \n",
    "\n",
    "# auxiliary function for assigning closest centroids\n",
    "def get_closest(means,X,k):\n",
    "    distances = np.zeros((X.shape[0],k))\n",
    "    for c in range(k):\n",
    "        diff = X.values - means[c,:]\n",
    "        distances[:,c] = np.linalg.norm(diff,axis=1)**2\n",
    "        \n",
    "    labels = np.argmin(distances,axis=1)\n",
    "    min_distance = np.min(distances,axis=1)\n",
    "    \n",
    "    return labels, min_distance"
   ]
  },
  {
   "cell_type": "code",
   "execution_count": 11,
   "metadata": {
    "ExecuteTime": {
     "end_time": "2019-05-23T10:28:59.609429Z",
     "start_time": "2019-05-23T10:28:59.591480Z"
    },
    "scrolled": false
   },
   "outputs": [
    {
     "name": "stdout",
     "output_type": "stream",
     "text": [
      "(107260,)\n",
      "(107260, 8)\n"
     ]
    }
   ],
   "source": [
    "# set up data for classification\n",
    "# class label: default\n",
    "y = df['loan_status']\n",
    "print(y.shape)\n",
    "\n",
    "# features: the remaining columns\n",
    "X = df.drop(columns = 'loan_status')\n",
    "print(X.shape)"
   ]
  },
  {
   "cell_type": "code",
   "execution_count": 12,
   "metadata": {
    "ExecuteTime": {
     "end_time": "2019-05-23T10:29:05.152401Z",
     "start_time": "2019-05-23T10:29:01.394215Z"
    }
   },
   "outputs": [],
   "source": [
    "k=3\n",
    "means = X.sample(k,random_state = 123).values\n",
    "labels, _ = get_closest(means,X,k)\n",
    "get_closest(means,X,k)\n",
    "\n",
    "for i in range(100):\n",
    "    means = get_means(labels,X,k)\n",
    "    new_labels, min_distance = get_closest(means,X,k)\n",
    "    if (labels == new_labels).all(): \n",
    "        break\n",
    "    else: \n",
    "        labels = new_labels"
   ]
  },
  {
   "cell_type": "code",
   "execution_count": 13,
   "metadata": {
    "ExecuteTime": {
     "end_time": "2019-05-23T10:29:13.880919Z",
     "start_time": "2019-05-23T10:29:06.207411Z"
    }
   },
   "outputs": [
    {
     "data": {
      "text/plain": [
       "Text(0,0.5,'Second principal component of returns')"
      ]
     },
     "execution_count": 13,
     "metadata": {},
     "output_type": "execute_result"
    },
    {
     "data": {
      "image/png": "[encoded data removed]",
      "text/plain": [
       "<Figure size 720x432 with 1 Axes>"
      ]
     },
     "metadata": {
      "needs_background": "light"
     },
     "output_type": "display_data"
    }
   ],
   "source": [
    "# visualisation\n",
    "Z = PCA(n_components=2).fit_transform(X)\n",
    "plt.figure(figsize=(10,6))\n",
    "plt.scatter(Z[:,0],Z[:,1],c=labels)\n",
    "plt.xlabel('First principal component of returns')\n",
    "plt.ylabel('Second principal component of returns')"
   ]
  },
  {
   "cell_type": "markdown",
   "metadata": {},
   "source": [
    "## 7 Tune Paramerter\n",
    "Design a graphical tool that helps pick good number of K.\n",
    "\n",
    "Interpret characteristics\n",
    "of borrowers in each cluster."
   ]
  },
  {
   "cell_type": "code",
   "execution_count": 14,
   "metadata": {
    "ExecuteTime": {
     "end_time": "2019-05-23T10:30:13.432615Z",
     "start_time": "2019-05-23T10:29:16.239983Z"
    },
    "scrolled": false
   },
   "outputs": [
    {
     "data": {
      "text/plain": [
       "Text(0,0.5,'Within-cluster point scatter')"
      ]
     },
     "execution_count": 14,
     "metadata": {},
     "output_type": "execute_result"
    },
    {
     "data": {
      "image/png": "[encoded data removed]",
      "text/plain": [
       "<Figure size 432x288 with 1 Axes>"
      ]
     },
     "metadata": {
      "needs_background": "light"
     },
     "output_type": "display_data"
    }
   ],
   "source": [
    "# for speed, use pre-loaded package\n",
    "distances = []\n",
    "for k in range(1,11): \n",
    "    fitted = KMeans(n_clusters=k,random_state = 234,n_init=10).fit(X)\n",
    "    distances.append(fitted.inertia_)\n",
    "plt.plot(range(1,11),distances,'-o')    \n",
    "plt.xlabel('k')\n",
    "plt.ylabel('Within-cluster point scatter')"
   ]
  },
  {
   "cell_type": "code",
   "execution_count": 15,
   "metadata": {
    "ExecuteTime": {
     "end_time": "2019-05-23T10:30:19.392031Z",
     "start_time": "2019-05-23T10:30:13.435605Z"
    }
   },
   "outputs": [
    {
     "data": {
      "text/plain": [
       "<matplotlib.legend.Legend at 0x1920f9f0438>"
      ]
     },
     "execution_count": 15,
     "metadata": {},
     "output_type": "execute_result"
    },
    {
     "data": {
      "image/png": "[encoded data removed]",
      "text/plain": [
       "<Figure size 1080x360 with 1 Axes>"
      ]
     },
     "metadata": {
      "needs_background": "light"
     },
     "output_type": "display_data"
    }
   ],
   "source": [
    "# what are we picking up?\n",
    "labels = KMeans(n_clusters = 5).fit_predict(X)\n",
    "plt.figure(figsize=(15,5))\n",
    "sns.countplot(y.values,hue=labels)\n",
    "plt.xlabel('y')\n",
    "plt.legend(title='Cluster')"
   ]
  }
 ],
 "metadata": {
  "kernelspec": {
   "display_name": "Python 3",
   "language": "python",
   "name": "python3"
  },
  "language_info": {
   "codemirror_mode": {
    "name": "ipython",
    "version": 3
   },
   "file_extension": ".py",
   "mimetype": "text/x-python",
   "name": "python",
   "nbconvert_exporter": "python",
   "pygments_lexer": "ipython3",
   "version": "3.6.5"
  }
 },
 "nbformat": 4,
 "nbformat_minor": 2
}
