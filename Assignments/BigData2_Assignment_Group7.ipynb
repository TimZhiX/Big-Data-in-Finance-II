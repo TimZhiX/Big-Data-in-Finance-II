{
 "cells": [
  {
   "cell_type": "markdown",
   "metadata": {},
   "source": [
    "# Assignment - Unsupervised Learning\n",
    "This assignment is for Big Data in Finance II."
   ]
  },
  {
   "cell_type": "markdown",
   "metadata": {},
   "source": [
    "## 0 Setup\n",
    "Download the lending club data saved on the hub as \n",
    "*/Data/lendingclub_cleaned/Loan_data.csv*.\n",
    "\n",
    "Keep the following list of borrower characteristics:\n",
    "\n",
    "`[loan_amnt, int_rate, annual_inc, avg_cur_bal, emp_length, fico_range_high, delinq_amnt, revol_util]`\n",
    "\n",
    "Also keep `loan_status` and convert it into a default indicator (which is one if the loan status is \"Fail\")"
   ]
  },
  {
   "cell_type": "code",
   "execution_count": 3,
   "metadata": {
    "ExecuteTime": {
     "end_time": "2019-05-23T00:09:13.336103Z",
     "start_time": "2019-05-23T00:09:13.329121Z"
    }
   },
   "outputs": [],
   "source": [
    "import pandas as pd\n",
    "import numpy as np\n",
    "import matplotlib.pyplot as plt\n",
    "import seaborn as sns\n",
    "\n",
    "from tqdm import tqdm\n",
    "from sklearn.decomposition import PCA\n",
    "from sklearn.cluster import KMeans\n",
    "from keras.datasets import mnist\n",
    "from keras.models import Model\n",
    "from keras.layers import Dense, Input\n",
    "\n",
    "np.seterr(all='ignore')\n",
    "np.random.seed(123)"
   ]
  },
  {
   "cell_type": "code",
   "execution_count": 4,
   "metadata": {
    "ExecuteTime": {
     "end_time": "2019-05-23T00:09:17.410722Z",
     "start_time": "2019-05-23T00:09:15.743901Z"
    }
   },
   "outputs": [
    {
     "name": "stdout",
     "output_type": "stream",
     "text": [
      "<class 'pandas.core.frame.DataFrame'>\n",
      "Int64Index: 107260 entries, 126413292 to 118607680\n",
      "Data columns (total 9 columns):\n",
      "loan_status        107260 non-null bool\n",
      "loan_amnt          107260 non-null float64\n",
      "int_rate           107260 non-null float64\n",
      "annual_inc         107260 non-null float64\n",
      "avg_cur_bal        107260 non-null float64\n",
      "emp_length         107260 non-null int64\n",
      "fico_range_high    107260 non-null float64\n",
      "delinq_amnt        107260 non-null float64\n",
      "revol_util         107260 non-null float64\n",
      "dtypes: bool(1), float64(7), int64(1)\n",
      "memory usage: 7.5 MB\n"
     ]
    }
   ],
   "source": [
    "# load data\n",
    "df = pd.read_csv('../data/lendingclub_cleaned/Loan_data.csv', low_memory = False, index_col=0)\n",
    "\n",
    "# keep list of borrower characteristers\n",
    "clist = ['loan_status', 'loan_amnt', 'int_rate', 'annual_inc', 'avg_cur_bal', 'emp_length', 'fico_range_high', 'delinq_amnt', 'revol_util']\n",
    "df = df[clist]\n",
    "\n",
    "# turn loan_status into a default indicator\n",
    "df['loan_status'] = (df['loan_status'] == 'Fail')\n",
    "\n",
    "# inspect data information\n",
    "df.info()"
   ]
  },
  {
   "cell_type": "markdown",
   "metadata": {},
   "source": [
    "## 1 Pricipal Components\n",
    "Compute the first 2 principal components.\n",
    "\n",
    "Make a biplot and interpret the main sources of variation in the data."
   ]
  },
  {
   "cell_type": "code",
   "execution_count": null,
   "metadata": {},
   "outputs": [],
   "source": []
  },
  {
   "cell_type": "markdown",
   "metadata": {},
   "source": [
    "## 2 Visualize Variation\n",
    "Make a table with the percentage of variance explained by q\n",
    "principal components. (q = 1 to 8)\n",
    "\n",
    "Choose suitable number of principal components used in classification."
   ]
  },
  {
   "cell_type": "code",
   "execution_count": null,
   "metadata": {},
   "outputs": [],
   "source": []
  },
  {
   "cell_type": "markdown",
   "metadata": {},
   "source": [
    "## 3 Prediction\n",
    "Reallocate the dataset into 80% traning set, 10% validation set, 10% test set.\n",
    "Create a synthetic dataset by undersampling non-defaulters(<70%).\n",
    "\n",
    "Run 8 logistic classifiers that predict default as a function of the first q principal components."
   ]
  },
  {
   "cell_type": "code",
   "execution_count": null,
   "metadata": {},
   "outputs": [],
   "source": []
  },
  {
   "cell_type": "markdown",
   "metadata": {},
   "source": [
    "## 4 Tune Parameter\n",
    "Get implied probabilities of default of all borrowers in validation set.\n",
    "\n",
    "Use these predictions and actual outcomes to calculate the cross-entropy loss for each q.\n",
    "\n",
    "Choose q which has the lowest loss on validation set. Evaluate performance of model on test set."
   ]
  },
  {
   "cell_type": "code",
   "execution_count": null,
   "metadata": {},
   "outputs": [],
   "source": []
  },
  {
   "cell_type": "markdown",
   "metadata": {},
   "source": [
    "## 5 Alternatives to PCA\n",
    "Pseudocode for backprop and gradient descent, for a nonlinear q-dimensional representation of consumer characteristics that uses <u>autoencoder</u>. [Goodfellow et al., Ch.14](https://www.deeplearningbook.org/contents/autoencoders.html)\n",
    "\n",
    "Train this model, get insights relative to PCA."
   ]
  },
  {
   "cell_type": "code",
   "execution_count": 5,
   "metadata": {
    "ExecuteTime": {
     "end_time": "2019-05-23T00:09:20.762158Z",
     "start_time": "2019-05-23T00:09:20.709298Z"
    }
   },
   "outputs": [
    {
     "name": "stdout",
     "output_type": "stream",
     "text": [
      "(1, 107260)\n",
      "(8, 107260)\n"
     ]
    }
   ],
   "source": [
    "# set up data for classification\n",
    "# class label: default\n",
    "y = df['loan_status'].values.reshape(1,-1)\n",
    "print(y.shape)\n",
    "\n",
    "# features: the remaining columns\n",
    "X = df.drop(columns = 'loan_status').values.T\n",
    "\n",
    "# standardise inputs\n",
    "X = (X - np.mean(X,axis=1).reshape(-1,1)) / np.std(X,axis=1).reshape(-1,1)\n",
    "print(X.shape)"
   ]
  },
  {
   "cell_type": "code",
   "execution_count": 15,
   "metadata": {
    "ExecuteTime": {
     "end_time": "2019-05-23T00:12:20.729401Z",
     "start_time": "2019-05-23T00:12:20.542660Z"
    }
   },
   "outputs": [
    {
     "name": "stderr",
     "output_type": "stream",
     "text": [
      "C:\\Users\\timzh\\AppData\\Roaming\\Python\\Python36\\site-packages\\ipykernel_launcher.py:20: UserWarning: Update your `Model` call to the Keras 2 API: `Model(inputs=Tensor(\"in..., outputs=Tensor(\"de...)`\n",
      "C:\\Users\\timzh\\AppData\\Roaming\\Python\\Python36\\site-packages\\ipykernel_launcher.py:23: UserWarning: Update your `Model` call to the Keras 2 API: `Model(inputs=Tensor(\"in..., outputs=Tensor(\"de...)`\n"
     ]
    }
   ],
   "source": [
    "# in order to plot in a 2D figure\n",
    "encoding_dim = 2\n",
    "\n",
    "# this is our input placeholder\n",
    "input_img = Input(shape=(107260,))\n",
    "\n",
    "# encoder layers\n",
    "encoded = Dense(128, activation='relu')(input_img)\n",
    "encoded = Dense(64, activation='relu')(encoded)\n",
    "encoded = Dense(10, activation='relu')(encoded)\n",
    "encoder_output = Dense(encoding_dim)(encoded)\n",
    "\n",
    "# decoder layers\n",
    "decoded = Dense(10, activation='relu')(encoder_output)\n",
    "decoded = Dense(64, activation='relu')(decoded)\n",
    "decoded = Dense(128, activation='relu')(decoded)\n",
    "decoded = Dense(107260, activation='tanh')(decoded)\n",
    "\n",
    "# construct the autoencoder model\n",
    "autoencoder = Model(input=input_img, output=decoded)\n",
    "\n",
    "# construct the encoder model for plotting\n",
    "encoder = Model(input=input_img, output=encoder_output)\n",
    "\n",
    "# compile autoencoder\n",
    "autoencoder.compile(optimizer='adam', loss='mse')\n"
   ]
  },
  {
   "cell_type": "code",
   "execution_count": 19,
   "metadata": {
    "ExecuteTime": {
     "end_time": "2019-05-23T00:14:01.172914Z",
     "start_time": "2019-05-23T00:13:49.523055Z"
    }
   },
   "outputs": [
    {
     "name": "stderr",
     "output_type": "stream",
     "text": [
      "C:\\Users\\timzh\\AppData\\Roaming\\Python\\Python36\\site-packages\\ipykernel_launcher.py:5: UserWarning: The `nb_epoch` argument in `fit` has been renamed `epochs`.\n",
      "  \"\"\"\n"
     ]
    },
    {
     "name": "stdout",
     "output_type": "stream",
     "text": [
      "Epoch 1/20\n",
      "8/8 [==============================] - 0s 62ms/step - loss: 0.6294\n",
      "Epoch 2/20\n",
      "8/8 [==============================] - 1s 70ms/step - loss: 0.6263\n",
      "Epoch 3/20\n",
      "8/8 [==============================] - 1s 81ms/step - loss: 0.6233\n",
      "Epoch 4/20\n",
      "8/8 [==============================] - 1s 76ms/step - loss: 0.6280\n",
      "Epoch 5/20\n",
      "8/8 [==============================] - 1s 67ms/step - loss: 0.6187\n",
      "Epoch 6/20\n",
      "8/8 [==============================] - 1s 73ms/step - loss: 0.6185\n",
      "Epoch 7/20\n",
      "8/8 [==============================] - 1s 65ms/step - loss: 0.6156\n",
      "Epoch 8/20\n",
      "8/8 [==============================] - 1s 69ms/step - loss: 0.6129\n",
      "Epoch 9/20\n",
      "8/8 [==============================] - 1s 67ms/step - loss: 0.6084\n",
      "Epoch 10/20\n",
      "8/8 [==============================] - 1s 72ms/step - loss: 0.6043\n",
      "Epoch 11/20\n",
      "8/8 [==============================] - 1s 68ms/step - loss: 0.6001\n",
      "Epoch 12/20\n",
      "8/8 [==============================] - 1s 71ms/step - loss: 0.5977\n",
      "Epoch 13/20\n",
      "8/8 [==============================] - 1s 68ms/step - loss: 0.5927\n",
      "Epoch 14/20\n",
      "8/8 [==============================] - 1s 69ms/step - loss: 0.5875\n",
      "Epoch 15/20\n",
      "8/8 [==============================] - 1s 72ms/step - loss: 0.5822\n",
      "Epoch 16/20\n",
      "8/8 [==============================] - 1s 67ms/step - loss: 0.5758\n",
      "Epoch 17/20\n",
      "8/8 [==============================] - 1s 73ms/step - loss: 0.5677\n",
      "Epoch 18/20\n",
      "8/8 [==============================] - 1s 81ms/step - loss: 0.5605\n",
      "Epoch 19/20\n",
      "8/8 [==============================] - 1s 80ms/step - loss: 0.5535\n",
      "Epoch 20/20\n",
      "8/8 [==============================] - 1s 84ms/step - loss: 0.5462\n"
     ]
    },
    {
     "data": {
      "text/plain": [
       "'\\nEpoch 20/20\\n60000/60000 [==============================] - 7s - loss: 0.0398\\n'"
      ]
     },
     "execution_count": 19,
     "metadata": {},
     "output_type": "execute_result"
    }
   ],
   "source": [
    "# training\n",
    "autoencoder.fit(X, X,\n",
    "                nb_epoch=20,\n",
    "                batch_size=256,\n",
    "                shuffle=True)"
   ]
  },
  {
   "cell_type": "code",
   "execution_count": 44,
   "metadata": {
    "ExecuteTime": {
     "end_time": "2019-05-23T00:21:35.107535Z",
     "start_time": "2019-05-23T00:21:34.945965Z"
    }
   },
   "outputs": [
    {
     "data": {
      "image/png": "[encoded data removed]",
      "text/plain": [
       "<Figure size 432x288 with 1 Axes>"
      ]
     },
     "metadata": {
      "needs_background": "light"
     },
     "output_type": "display_data"
    }
   ],
   "source": [
    "# plotting\n",
    "encoded_imgs = encoder.predict(X)\n",
    "plt.scatter(encoded_imgs[:, 0], encoded_imgs[:, 1]) # something wrong here\n",
    "plt.show()"
   ]
  },
  {
   "cell_type": "markdown",
   "metadata": {},
   "source": [
    "## 6 K-Means Clustering\n",
    "Cluster borrowers into K groups using K-means."
   ]
  },
  {
   "cell_type": "code",
   "execution_count": null,
   "metadata": {},
   "outputs": [],
   "source": []
  },
  {
   "cell_type": "markdown",
   "metadata": {},
   "source": [
    "## 7 Tune Paramerter\n",
    "Design a graphical tool that helps pick good number of K.\n",
    "\n",
    "Interpret characteristics\n",
    "of borrowers in each cluster."
   ]
  },
  {
   "cell_type": "code",
   "execution_count": null,
   "metadata": {},
   "outputs": [],
   "source": []
  }
 ],
 "metadata": {
  "kernelspec": {
   "display_name": "Python 3",
   "language": "python",
   "name": "python3"
  },
  "language_info": {
   "codemirror_mode": {
    "name": "ipython",
    "version": 3
   },
   "file_extension": ".py",
   "mimetype": "text/x-python",
   "name": "python",
   "nbconvert_exporter": "python",
   "pygments_lexer": "ipython3",
   "version": "3.6.5"
  }
 },
 "nbformat": 4,
 "nbformat_minor": 2
}
